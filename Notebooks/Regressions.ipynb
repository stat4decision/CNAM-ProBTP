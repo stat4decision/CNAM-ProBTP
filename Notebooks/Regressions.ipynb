{
 "cells": [
  {
   "cell_type": "markdown",
   "metadata": {},
   "source": [
    "## LES METHODES DE REGRESSION"
   ]
  },
  {
   "cell_type": "code",
   "execution_count": 1,
   "metadata": {
    "collapsed": true
   },
   "outputs": [],
   "source": [
    "import pandas as pd\n",
    "import numpy as np"
   ]
  },
  {
   "cell_type": "markdown",
   "metadata": {},
   "source": [
    "On récupère les données"
   ]
  },
  {
   "cell_type": "code",
   "execution_count": 2,
   "metadata": {
    "collapsed": true
   },
   "outputs": [],
   "source": [
    "frame_nba=pd.read_csv(\"nba_2013.csv\")"
   ]
  },
  {
   "cell_type": "markdown",
   "metadata": {},
   "source": [
    "On nettoie les données manquantes"
   ]
  },
  {
   "cell_type": "code",
   "execution_count": 3,
   "metadata": {
    "collapsed": true
   },
   "outputs": [],
   "source": [
    "frame_nba=frame_nba.dropna()"
   ]
  },
  {
   "cell_type": "code",
   "execution_count": 4,
   "metadata": {},
   "outputs": [
    {
     "data": {
      "text/plain": [
       "(403, 31)"
      ]
     },
     "execution_count": 4,
     "metadata": {},
     "output_type": "execute_result"
    }
   ],
   "source": [
    "frame_nba.shape"
   ]
  },
  {
   "cell_type": "code",
   "execution_count": 5,
   "metadata": {},
   "outputs": [
    {
     "name": "stdout",
     "output_type": "stream",
     "text": [
      "<class 'pandas.core.frame.DataFrame'>\n",
      "Int64Index: 403 entries, 0 to 480\n",
      "Data columns (total 31 columns):\n",
      "player          403 non-null object\n",
      "pos             403 non-null object\n",
      "age             403 non-null int64\n",
      "bref_team_id    403 non-null object\n",
      "g               403 non-null int64\n",
      "gs              403 non-null int64\n",
      "mp              403 non-null int64\n",
      "fg              403 non-null int64\n",
      "fga             403 non-null int64\n",
      "fg.             403 non-null float64\n",
      "x3p             403 non-null int64\n",
      "x3pa            403 non-null int64\n",
      "x3p.            403 non-null float64\n",
      "x2p             403 non-null int64\n",
      "x2pa            403 non-null int64\n",
      "x2p.            403 non-null float64\n",
      "efg.            403 non-null float64\n",
      "ft              403 non-null int64\n",
      "fta             403 non-null int64\n",
      "ft.             403 non-null float64\n",
      "orb             403 non-null int64\n",
      "drb             403 non-null int64\n",
      "trb             403 non-null int64\n",
      "ast             403 non-null int64\n",
      "stl             403 non-null int64\n",
      "blk             403 non-null int64\n",
      "tov             403 non-null int64\n",
      "pf              403 non-null int64\n",
      "pts             403 non-null int64\n",
      "season          403 non-null object\n",
      "season_end      403 non-null int64\n",
      "dtypes: float64(5), int64(22), object(4)\n",
      "memory usage: 100.8+ KB\n"
     ]
    }
   ],
   "source": [
    "frame_nba.info()"
   ]
  },
  {
   "cell_type": "markdown",
   "metadata": {},
   "source": [
    "G = Games played\n",
    "\n",
    "GS = Games Started\n",
    "\n",
    "MPG = Minutes per Game\n",
    "\n",
    "FG% = Field Goal Percentage, shots made divided into shots taken.\n",
    "\n",
    "3P% = 3 Point Field Goal Percentage, 3 pt shots made divided into 3 point shots taken.\n",
    "\n",
    "FT% = Free Throws made divided into Free Throws shots tken\n",
    "\n",
    "OFF = Offensive Rebounds \n",
    "\n",
    "DEF = Defensive Rebounds \n",
    "\n",
    "TOT = Total Rebounds \n",
    "\n",
    "APG = Assists per Game \n",
    "\n",
    "SPG = Steals per Game \n",
    "\n",
    "BPG = Blocks per Game \n",
    "\n",
    "TO = Turnovers \n",
    "\n",
    "PF = Personal Fouls \n",
    "\n",
    "PPG = Points per Game \n",
    "\n",
    "MIN = Minutes Total Played \n",
    "\n",
    "FGM-A = Field Goals Made vs. Attempted \n",
    "\n",
    "3PM-A = 3 pt Field Goals Made vs. Attempted \n",
    "\n",
    "FIM-A must be FTM-a = Free Throws Made vs. Attempted \n",
    "\n",
    "PG = Per Game \n",
    "\n",
    "GB = Games Back (Usually teams back in standings to division leader) \n",
    "\n",
    "Conf= Conference \n",
    "\n",
    "Div = Division "
   ]
  },
  {
   "cell_type": "markdown",
   "metadata": {},
   "source": [
    "On crée la variable à prédire"
   ]
  },
  {
   "cell_type": "code",
   "execution_count": 6,
   "metadata": {
    "collapsed": true
   },
   "outputs": [],
   "source": [
    "y=frame_nba[\"pts\"]"
   ]
  },
  {
   "cell_type": "code",
   "execution_count": 7,
   "metadata": {},
   "outputs": [
    {
     "data": {
      "text/plain": [
       "Index(['player', 'pos', 'age', 'bref_team_id', 'g', 'gs', 'mp', 'fg', 'fga',\n",
       "       'fg.', 'x3p', 'x3pa', 'x3p.', 'x2p', 'x2pa', 'x2p.', 'efg.', 'ft',\n",
       "       'fta', 'ft.', 'orb', 'drb', 'trb', 'ast', 'stl', 'blk', 'tov', 'pf',\n",
       "       'pts', 'season', 'season_end'],\n",
       "      dtype='object')"
      ]
     },
     "execution_count": 7,
     "metadata": {},
     "output_type": "execute_result"
    }
   ],
   "source": [
    "frame_nba.columns"
   ]
  },
  {
   "cell_type": "markdown",
   "metadata": {},
   "source": [
    "On construit x avec les variables explicatives"
   ]
  },
  {
   "cell_type": "code",
   "execution_count": 13,
   "metadata": {
    "collapsed": true
   },
   "outputs": [],
   "source": [
    "x=frame_nba[['age',  'g', 'gs', 'mp', \n",
    "       'fg.', 'x3p', 'x3pa', 'x3p.', 'x2p', 'x2pa', 'x2p.', 'efg.', 'ft',\n",
    "       'fta', 'ft.', 'orb', 'drb', 'trb', 'ast', 'stl', 'blk', 'tov', 'pf']]"
   ]
  },
  {
   "cell_type": "markdown",
   "metadata": {
    "collapsed": true
   },
   "source": [
    "On utilise une bibliothèque spécifique pour générer un rapport"
   ]
  },
  {
   "cell_type": "code",
   "execution_count": 8,
   "metadata": {
    "collapsed": true
   },
   "outputs": [],
   "source": [
    "import pandas_profiling"
   ]
  },
  {
   "cell_type": "code",
   "execution_count": 10,
   "metadata": {
    "collapsed": true
   },
   "outputs": [],
   "source": [
    "import matplotlib.pyplot as plt"
   ]
  },
  {
   "cell_type": "code",
   "execution_count": 11,
   "metadata": {
    "collapsed": true
   },
   "outputs": [],
   "source": [
    "my_report=pandas_profiling.ProfileReport(frame_nba)"
   ]
  },
  {
   "cell_type": "code",
   "execution_count": 12,
   "metadata": {
    "collapsed": true
   },
   "outputs": [],
   "source": [
    "#on sauve le rapport dans un fichier\n",
    "my_report.to_file(\"mon_rapport.html\")"
   ]
  },
  {
   "cell_type": "markdown",
   "metadata": {},
   "source": [
    "Construire un modèle de prédiction du nombre de points"
   ]
  },
  {
   "cell_type": "code",
   "execution_count": 14,
   "metadata": {
    "collapsed": true
   },
   "outputs": [],
   "source": [
    "from sklearn.linear_model import LinearRegression\n",
    "from sklearn.cross_decomposition import PLSRegression"
   ]
  },
  {
   "cell_type": "markdown",
   "metadata": {},
   "source": [
    "Découpage du jeu de données"
   ]
  },
  {
   "cell_type": "code",
   "execution_count": 15,
   "metadata": {
    "collapsed": true
   },
   "outputs": [],
   "source": [
    "from sklearn.model_selection import train_test_split"
   ]
  },
  {
   "cell_type": "code",
   "execution_count": 16,
   "metadata": {
    "collapsed": true
   },
   "outputs": [],
   "source": [
    "x_train, x_test, y_train, y_test = train_test_split(x,y,test_size=0.2)"
   ]
  },
  {
   "cell_type": "markdown",
   "metadata": {},
   "source": [
    "Création des objets à partir des classes de modèle"
   ]
  },
  {
   "cell_type": "code",
   "execution_count": 27,
   "metadata": {
    "collapsed": true
   },
   "outputs": [],
   "source": [
    "modele_ols=LinearRegression(normalize=True)\n",
    "modele_pls=PLSRegression(n_components=15)"
   ]
  },
  {
   "cell_type": "code",
   "execution_count": 28,
   "metadata": {},
   "outputs": [
    {
     "data": {
      "text/plain": [
       "LinearRegression(copy_X=True, fit_intercept=True, n_jobs=1, normalize=True)"
      ]
     },
     "execution_count": 28,
     "metadata": {},
     "output_type": "execute_result"
    }
   ],
   "source": [
    "modele_ols.fit(x_train,y_train)"
   ]
  },
  {
   "cell_type": "code",
   "execution_count": 29,
   "metadata": {},
   "outputs": [
    {
     "data": {
      "text/plain": [
       "PLSRegression(copy=True, max_iter=500, n_components=15, scale=True, tol=1e-06)"
      ]
     },
     "execution_count": 29,
     "metadata": {},
     "output_type": "execute_result"
    }
   ],
   "source": [
    "modele_pls.fit(x_train,y_train)"
   ]
  },
  {
   "cell_type": "code",
   "execution_count": 22,
   "metadata": {
    "collapsed": true
   },
   "outputs": [],
   "source": [
    "from sklearn.metrics import mean_squared_error"
   ]
  },
  {
   "cell_type": "code",
   "execution_count": 31,
   "metadata": {},
   "outputs": [
    {
     "data": {
      "text/plain": [
       "5.4190408375411855e-25"
      ]
     },
     "execution_count": 31,
     "metadata": {},
     "output_type": "execute_result"
    }
   ],
   "source": [
    "mean_squared_error(y_test,modele_ols.predict(x_test))"
   ]
  },
  {
   "cell_type": "code",
   "execution_count": 30,
   "metadata": {},
   "outputs": [
    {
     "data": {
      "text/plain": [
       "24.250844158876994"
      ]
     },
     "execution_count": 30,
     "metadata": {},
     "output_type": "execute_result"
    }
   ],
   "source": [
    "mean_squared_error(y_test,modele_pls.predict(x_test))"
   ]
  },
  {
   "cell_type": "code",
   "execution_count": 32,
   "metadata": {},
   "outputs": [
    {
     "data": {
      "text/html": [
       "<div>\n",
       "<style>\n",
       "    .dataframe thead tr:only-child th {\n",
       "        text-align: right;\n",
       "    }\n",
       "\n",
       "    .dataframe thead th {\n",
       "        text-align: left;\n",
       "    }\n",
       "\n",
       "    .dataframe tbody tr th {\n",
       "        vertical-align: top;\n",
       "    }\n",
       "</style>\n",
       "<table border=\"1\" class=\"dataframe\">\n",
       "  <thead>\n",
       "    <tr style=\"text-align: right;\">\n",
       "      <th></th>\n",
       "      <th>age</th>\n",
       "      <th>g</th>\n",
       "      <th>gs</th>\n",
       "      <th>mp</th>\n",
       "      <th>fg</th>\n",
       "      <th>fga</th>\n",
       "      <th>fg.</th>\n",
       "      <th>x3p</th>\n",
       "      <th>x3pa</th>\n",
       "      <th>x3p.</th>\n",
       "      <th>...</th>\n",
       "      <th>orb</th>\n",
       "      <th>drb</th>\n",
       "      <th>trb</th>\n",
       "      <th>ast</th>\n",
       "      <th>stl</th>\n",
       "      <th>blk</th>\n",
       "      <th>tov</th>\n",
       "      <th>pf</th>\n",
       "      <th>pts</th>\n",
       "      <th>season_end</th>\n",
       "    </tr>\n",
       "  </thead>\n",
       "  <tbody>\n",
       "    <tr>\n",
       "      <th>age</th>\n",
       "      <td>1.000000</td>\n",
       "      <td>0.003149</td>\n",
       "      <td>0.031170</td>\n",
       "      <td>0.019843</td>\n",
       "      <td>-0.004368</td>\n",
       "      <td>-0.014302</td>\n",
       "      <td>0.040057</td>\n",
       "      <td>0.062686</td>\n",
       "      <td>0.038126</td>\n",
       "      <td>0.034957</td>\n",
       "      <td>...</td>\n",
       "      <td>-0.068620</td>\n",
       "      <td>0.023577</td>\n",
       "      <td>-0.004398</td>\n",
       "      <td>0.026157</td>\n",
       "      <td>-0.022535</td>\n",
       "      <td>0.001864</td>\n",
       "      <td>-0.028296</td>\n",
       "      <td>-0.016736</td>\n",
       "      <td>-0.007520</td>\n",
       "      <td>NaN</td>\n",
       "    </tr>\n",
       "    <tr>\n",
       "      <th>g</th>\n",
       "      <td>0.003149</td>\n",
       "      <td>1.000000</td>\n",
       "      <td>0.589389</td>\n",
       "      <td>0.855091</td>\n",
       "      <td>0.719623</td>\n",
       "      <td>0.729451</td>\n",
       "      <td>0.429928</td>\n",
       "      <td>0.498908</td>\n",
       "      <td>0.517138</td>\n",
       "      <td>0.134474</td>\n",
       "      <td>...</td>\n",
       "      <td>0.511668</td>\n",
       "      <td>0.681047</td>\n",
       "      <td>0.654439</td>\n",
       "      <td>0.520201</td>\n",
       "      <td>0.682955</td>\n",
       "      <td>0.444877</td>\n",
       "      <td>0.678705</td>\n",
       "      <td>0.844418</td>\n",
       "      <td>0.708630</td>\n",
       "      <td>NaN</td>\n",
       "    </tr>\n",
       "    <tr>\n",
       "      <th>gs</th>\n",
       "      <td>0.031170</td>\n",
       "      <td>0.589389</td>\n",
       "      <td>1.000000</td>\n",
       "      <td>0.852544</td>\n",
       "      <td>0.807803</td>\n",
       "      <td>0.799696</td>\n",
       "      <td>0.336935</td>\n",
       "      <td>0.475804</td>\n",
       "      <td>0.489954</td>\n",
       "      <td>0.072941</td>\n",
       "      <td>...</td>\n",
       "      <td>0.534162</td>\n",
       "      <td>0.755443</td>\n",
       "      <td>0.715461</td>\n",
       "      <td>0.614157</td>\n",
       "      <td>0.721275</td>\n",
       "      <td>0.490469</td>\n",
       "      <td>0.744199</td>\n",
       "      <td>0.703682</td>\n",
       "      <td>0.797006</td>\n",
       "      <td>NaN</td>\n",
       "    </tr>\n",
       "    <tr>\n",
       "      <th>mp</th>\n",
       "      <td>0.019843</td>\n",
       "      <td>0.855091</td>\n",
       "      <td>0.852544</td>\n",
       "      <td>1.000000</td>\n",
       "      <td>0.923122</td>\n",
       "      <td>0.931583</td>\n",
       "      <td>0.393050</td>\n",
       "      <td>0.620925</td>\n",
       "      <td>0.642271</td>\n",
       "      <td>0.158417</td>\n",
       "      <td>...</td>\n",
       "      <td>0.552034</td>\n",
       "      <td>0.805803</td>\n",
       "      <td>0.757597</td>\n",
       "      <td>0.711095</td>\n",
       "      <td>0.829725</td>\n",
       "      <td>0.489242</td>\n",
       "      <td>0.867292</td>\n",
       "      <td>0.869167</td>\n",
       "      <td>0.920194</td>\n",
       "      <td>NaN</td>\n",
       "    </tr>\n",
       "    <tr>\n",
       "      <th>fg</th>\n",
       "      <td>-0.004368</td>\n",
       "      <td>0.719623</td>\n",
       "      <td>0.807803</td>\n",
       "      <td>0.923122</td>\n",
       "      <td>1.000000</td>\n",
       "      <td>0.987777</td>\n",
       "      <td>0.407535</td>\n",
       "      <td>0.562590</td>\n",
       "      <td>0.578946</td>\n",
       "      <td>0.124877</td>\n",
       "      <td>...</td>\n",
       "      <td>0.548940</td>\n",
       "      <td>0.819745</td>\n",
       "      <td>0.766743</td>\n",
       "      <td>0.679671</td>\n",
       "      <td>0.756097</td>\n",
       "      <td>0.484449</td>\n",
       "      <td>0.890360</td>\n",
       "      <td>0.781590</td>\n",
       "      <td>0.991289</td>\n",
       "      <td>NaN</td>\n",
       "    </tr>\n",
       "    <tr>\n",
       "      <th>fga</th>\n",
       "      <td>-0.014302</td>\n",
       "      <td>0.729451</td>\n",
       "      <td>0.799696</td>\n",
       "      <td>0.931583</td>\n",
       "      <td>0.987777</td>\n",
       "      <td>1.000000</td>\n",
       "      <td>0.325958</td>\n",
       "      <td>0.628079</td>\n",
       "      <td>0.652180</td>\n",
       "      <td>0.170132</td>\n",
       "      <td>...</td>\n",
       "      <td>0.476147</td>\n",
       "      <td>0.772900</td>\n",
       "      <td>0.709946</td>\n",
       "      <td>0.719715</td>\n",
       "      <td>0.773317</td>\n",
       "      <td>0.416612</td>\n",
       "      <td>0.898432</td>\n",
       "      <td>0.772608</td>\n",
       "      <td>0.988128</td>\n",
       "      <td>NaN</td>\n",
       "    </tr>\n",
       "    <tr>\n",
       "      <th>fg.</th>\n",
       "      <td>0.040057</td>\n",
       "      <td>0.429928</td>\n",
       "      <td>0.336935</td>\n",
       "      <td>0.393050</td>\n",
       "      <td>0.407535</td>\n",
       "      <td>0.325958</td>\n",
       "      <td>1.000000</td>\n",
       "      <td>0.007605</td>\n",
       "      <td>-0.013174</td>\n",
       "      <td>-0.091448</td>\n",
       "      <td>...</td>\n",
       "      <td>0.531054</td>\n",
       "      <td>0.497099</td>\n",
       "      <td>0.527060</td>\n",
       "      <td>0.128746</td>\n",
       "      <td>0.282662</td>\n",
       "      <td>0.484121</td>\n",
       "      <td>0.322147</td>\n",
       "      <td>0.472329</td>\n",
       "      <td>0.370077</td>\n",
       "      <td>NaN</td>\n",
       "    </tr>\n",
       "    <tr>\n",
       "      <th>x3p</th>\n",
       "      <td>0.062686</td>\n",
       "      <td>0.498908</td>\n",
       "      <td>0.475804</td>\n",
       "      <td>0.620925</td>\n",
       "      <td>0.562590</td>\n",
       "      <td>0.628079</td>\n",
       "      <td>0.007605</td>\n",
       "      <td>1.000000</td>\n",
       "      <td>0.990855</td>\n",
       "      <td>0.494052</td>\n",
       "      <td>...</td>\n",
       "      <td>-0.100796</td>\n",
       "      <td>0.246765</td>\n",
       "      <td>0.147440</td>\n",
       "      <td>0.572132</td>\n",
       "      <td>0.547052</td>\n",
       "      <td>-0.065418</td>\n",
       "      <td>0.517260</td>\n",
       "      <td>0.419992</td>\n",
       "      <td>0.624143</td>\n",
       "      <td>NaN</td>\n",
       "    </tr>\n",
       "    <tr>\n",
       "      <th>x3pa</th>\n",
       "      <td>0.038126</td>\n",
       "      <td>0.517138</td>\n",
       "      <td>0.489954</td>\n",
       "      <td>0.642271</td>\n",
       "      <td>0.578946</td>\n",
       "      <td>0.652180</td>\n",
       "      <td>-0.013174</td>\n",
       "      <td>0.990855</td>\n",
       "      <td>1.000000</td>\n",
       "      <td>0.482355</td>\n",
       "      <td>...</td>\n",
       "      <td>-0.093893</td>\n",
       "      <td>0.257608</td>\n",
       "      <td>0.157470</td>\n",
       "      <td>0.598351</td>\n",
       "      <td>0.579049</td>\n",
       "      <td>-0.063485</td>\n",
       "      <td>0.547655</td>\n",
       "      <td>0.436648</td>\n",
       "      <td>0.640738</td>\n",
       "      <td>NaN</td>\n",
       "    </tr>\n",
       "    <tr>\n",
       "      <th>x3p.</th>\n",
       "      <td>0.034957</td>\n",
       "      <td>0.134474</td>\n",
       "      <td>0.072941</td>\n",
       "      <td>0.158417</td>\n",
       "      <td>0.124877</td>\n",
       "      <td>0.170132</td>\n",
       "      <td>-0.091448</td>\n",
       "      <td>0.494052</td>\n",
       "      <td>0.482355</td>\n",
       "      <td>1.000000</td>\n",
       "      <td>...</td>\n",
       "      <td>-0.328429</td>\n",
       "      <td>-0.094532</td>\n",
       "      <td>-0.171503</td>\n",
       "      <td>0.231770</td>\n",
       "      <td>0.167502</td>\n",
       "      <td>-0.193395</td>\n",
       "      <td>0.112055</td>\n",
       "      <td>-0.010621</td>\n",
       "      <td>0.160854</td>\n",
       "      <td>NaN</td>\n",
       "    </tr>\n",
       "    <tr>\n",
       "      <th>x2p</th>\n",
       "      <td>-0.026924</td>\n",
       "      <td>0.656164</td>\n",
       "      <td>0.765976</td>\n",
       "      <td>0.848373</td>\n",
       "      <td>0.957444</td>\n",
       "      <td>0.920478</td>\n",
       "      <td>0.467578</td>\n",
       "      <td>0.300038</td>\n",
       "      <td>0.322103</td>\n",
       "      <td>-0.028388</td>\n",
       "      <td>...</td>\n",
       "      <td>0.668582</td>\n",
       "      <td>0.859713</td>\n",
       "      <td>0.833232</td>\n",
       "      <td>0.584503</td>\n",
       "      <td>0.681442</td>\n",
       "      <td>0.581818</td>\n",
       "      <td>0.846762</td>\n",
       "      <td>0.755215</td>\n",
       "      <td>0.925905</td>\n",
       "      <td>NaN</td>\n",
       "    </tr>\n",
       "    <tr>\n",
       "      <th>x2pa</th>\n",
       "      <td>-0.034907</td>\n",
       "      <td>0.666453</td>\n",
       "      <td>0.765468</td>\n",
       "      <td>0.859349</td>\n",
       "      <td>0.957373</td>\n",
       "      <td>0.939322</td>\n",
       "      <td>0.408339</td>\n",
       "      <td>0.326950</td>\n",
       "      <td>0.352563</td>\n",
       "      <td>-0.008255</td>\n",
       "      <td>...</td>\n",
       "      <td>0.630266</td>\n",
       "      <td>0.837529</td>\n",
       "      <td>0.805130</td>\n",
       "      <td>0.617684</td>\n",
       "      <td>0.692588</td>\n",
       "      <td>0.543012</td>\n",
       "      <td>0.861242</td>\n",
       "      <td>0.756150</td>\n",
       "      <td>0.929844</td>\n",
       "      <td>NaN</td>\n",
       "    </tr>\n",
       "    <tr>\n",
       "      <th>x2p.</th>\n",
       "      <td>0.002652</td>\n",
       "      <td>0.329124</td>\n",
       "      <td>0.264363</td>\n",
       "      <td>0.305663</td>\n",
       "      <td>0.309230</td>\n",
       "      <td>0.243625</td>\n",
       "      <td>0.863999</td>\n",
       "      <td>0.066028</td>\n",
       "      <td>0.066920</td>\n",
       "      <td>-0.097278</td>\n",
       "      <td>...</td>\n",
       "      <td>0.367804</td>\n",
       "      <td>0.365686</td>\n",
       "      <td>0.380562</td>\n",
       "      <td>0.090380</td>\n",
       "      <td>0.241413</td>\n",
       "      <td>0.342369</td>\n",
       "      <td>0.234919</td>\n",
       "      <td>0.352013</td>\n",
       "      <td>0.286571</td>\n",
       "      <td>NaN</td>\n",
       "    </tr>\n",
       "    <tr>\n",
       "      <th>efg.</th>\n",
       "      <td>0.119367</td>\n",
       "      <td>0.433279</td>\n",
       "      <td>0.293877</td>\n",
       "      <td>0.384185</td>\n",
       "      <td>0.352756</td>\n",
       "      <td>0.303551</td>\n",
       "      <td>0.858859</td>\n",
       "      <td>0.317480</td>\n",
       "      <td>0.283845</td>\n",
       "      <td>0.251834</td>\n",
       "      <td>...</td>\n",
       "      <td>0.287833</td>\n",
       "      <td>0.351394</td>\n",
       "      <td>0.345133</td>\n",
       "      <td>0.163939</td>\n",
       "      <td>0.288181</td>\n",
       "      <td>0.288667</td>\n",
       "      <td>0.259661</td>\n",
       "      <td>0.392835</td>\n",
       "      <td>0.345044</td>\n",
       "      <td>NaN</td>\n",
       "    </tr>\n",
       "    <tr>\n",
       "      <th>ft</th>\n",
       "      <td>-0.049566</td>\n",
       "      <td>0.571620</td>\n",
       "      <td>0.689366</td>\n",
       "      <td>0.791778</td>\n",
       "      <td>0.886732</td>\n",
       "      <td>0.880231</td>\n",
       "      <td>0.319544</td>\n",
       "      <td>0.459922</td>\n",
       "      <td>0.485016</td>\n",
       "      <td>0.068341</td>\n",
       "      <td>...</td>\n",
       "      <td>0.452312</td>\n",
       "      <td>0.702485</td>\n",
       "      <td>0.651390</td>\n",
       "      <td>0.673708</td>\n",
       "      <td>0.692804</td>\n",
       "      <td>0.385029</td>\n",
       "      <td>0.862433</td>\n",
       "      <td>0.643659</td>\n",
       "      <td>0.923201</td>\n",
       "      <td>NaN</td>\n",
       "    </tr>\n",
       "    <tr>\n",
       "      <th>fta</th>\n",
       "      <td>-0.065464</td>\n",
       "      <td>0.584322</td>\n",
       "      <td>0.699713</td>\n",
       "      <td>0.797706</td>\n",
       "      <td>0.889077</td>\n",
       "      <td>0.872277</td>\n",
       "      <td>0.361409</td>\n",
       "      <td>0.398479</td>\n",
       "      <td>0.425703</td>\n",
       "      <td>0.023600</td>\n",
       "      <td>...</td>\n",
       "      <td>0.526899</td>\n",
       "      <td>0.748109</td>\n",
       "      <td>0.707864</td>\n",
       "      <td>0.647253</td>\n",
       "      <td>0.699554</td>\n",
       "      <td>0.444326</td>\n",
       "      <td>0.869089</td>\n",
       "      <td>0.674058</td>\n",
       "      <td>0.915259</td>\n",
       "      <td>NaN</td>\n",
       "    </tr>\n",
       "    <tr>\n",
       "      <th>ft.</th>\n",
       "      <td>0.033372</td>\n",
       "      <td>0.198547</td>\n",
       "      <td>0.148683</td>\n",
       "      <td>0.232772</td>\n",
       "      <td>0.229745</td>\n",
       "      <td>0.260975</td>\n",
       "      <td>0.089630</td>\n",
       "      <td>0.346334</td>\n",
       "      <td>0.341867</td>\n",
       "      <td>0.284892</td>\n",
       "      <td>...</td>\n",
       "      <td>-0.067915</td>\n",
       "      <td>0.068944</td>\n",
       "      <td>0.028736</td>\n",
       "      <td>0.235162</td>\n",
       "      <td>0.169023</td>\n",
       "      <td>-0.060122</td>\n",
       "      <td>0.199260</td>\n",
       "      <td>0.150207</td>\n",
       "      <td>0.258744</td>\n",
       "      <td>NaN</td>\n",
       "    </tr>\n",
       "    <tr>\n",
       "      <th>orb</th>\n",
       "      <td>-0.068620</td>\n",
       "      <td>0.511668</td>\n",
       "      <td>0.534162</td>\n",
       "      <td>0.552034</td>\n",
       "      <td>0.548940</td>\n",
       "      <td>0.476147</td>\n",
       "      <td>0.531054</td>\n",
       "      <td>-0.100796</td>\n",
       "      <td>-0.093893</td>\n",
       "      <td>-0.328429</td>\n",
       "      <td>...</td>\n",
       "      <td>1.000000</td>\n",
       "      <td>0.825725</td>\n",
       "      <td>0.912430</td>\n",
       "      <td>0.114442</td>\n",
       "      <td>0.353776</td>\n",
       "      <td>0.763313</td>\n",
       "      <td>0.441139</td>\n",
       "      <td>0.691158</td>\n",
       "      <td>0.491221</td>\n",
       "      <td>NaN</td>\n",
       "    </tr>\n",
       "    <tr>\n",
       "      <th>drb</th>\n",
       "      <td>0.023577</td>\n",
       "      <td>0.681047</td>\n",
       "      <td>0.755443</td>\n",
       "      <td>0.805803</td>\n",
       "      <td>0.819745</td>\n",
       "      <td>0.772900</td>\n",
       "      <td>0.497099</td>\n",
       "      <td>0.246765</td>\n",
       "      <td>0.257608</td>\n",
       "      <td>-0.094532</td>\n",
       "      <td>...</td>\n",
       "      <td>0.825725</td>\n",
       "      <td>1.000000</td>\n",
       "      <td>0.984253</td>\n",
       "      <td>0.421243</td>\n",
       "      <td>0.599141</td>\n",
       "      <td>0.719310</td>\n",
       "      <td>0.718024</td>\n",
       "      <td>0.798214</td>\n",
       "      <td>0.783448</td>\n",
       "      <td>NaN</td>\n",
       "    </tr>\n",
       "    <tr>\n",
       "      <th>trb</th>\n",
       "      <td>-0.004398</td>\n",
       "      <td>0.654439</td>\n",
       "      <td>0.715461</td>\n",
       "      <td>0.757597</td>\n",
       "      <td>0.766743</td>\n",
       "      <td>0.709946</td>\n",
       "      <td>0.527060</td>\n",
       "      <td>0.147440</td>\n",
       "      <td>0.157470</td>\n",
       "      <td>-0.171503</td>\n",
       "      <td>...</td>\n",
       "      <td>0.912430</td>\n",
       "      <td>0.984253</td>\n",
       "      <td>1.000000</td>\n",
       "      <td>0.341472</td>\n",
       "      <td>0.545537</td>\n",
       "      <td>0.761056</td>\n",
       "      <td>0.659163</td>\n",
       "      <td>0.795689</td>\n",
       "      <td>0.722322</td>\n",
       "      <td>NaN</td>\n",
       "    </tr>\n",
       "    <tr>\n",
       "      <th>ast</th>\n",
       "      <td>0.026157</td>\n",
       "      <td>0.520201</td>\n",
       "      <td>0.614157</td>\n",
       "      <td>0.711095</td>\n",
       "      <td>0.679671</td>\n",
       "      <td>0.719715</td>\n",
       "      <td>0.128746</td>\n",
       "      <td>0.572132</td>\n",
       "      <td>0.598351</td>\n",
       "      <td>0.231770</td>\n",
       "      <td>...</td>\n",
       "      <td>0.114442</td>\n",
       "      <td>0.421243</td>\n",
       "      <td>0.341472</td>\n",
       "      <td>1.000000</td>\n",
       "      <td>0.745814</td>\n",
       "      <td>0.083110</td>\n",
       "      <td>0.845212</td>\n",
       "      <td>0.507152</td>\n",
       "      <td>0.710765</td>\n",
       "      <td>NaN</td>\n",
       "    </tr>\n",
       "    <tr>\n",
       "      <th>stl</th>\n",
       "      <td>-0.022535</td>\n",
       "      <td>0.682955</td>\n",
       "      <td>0.721275</td>\n",
       "      <td>0.829725</td>\n",
       "      <td>0.756097</td>\n",
       "      <td>0.773317</td>\n",
       "      <td>0.282662</td>\n",
       "      <td>0.547052</td>\n",
       "      <td>0.579049</td>\n",
       "      <td>0.167502</td>\n",
       "      <td>...</td>\n",
       "      <td>0.353776</td>\n",
       "      <td>0.599141</td>\n",
       "      <td>0.545537</td>\n",
       "      <td>0.745814</td>\n",
       "      <td>1.000000</td>\n",
       "      <td>0.291649</td>\n",
       "      <td>0.801463</td>\n",
       "      <td>0.711855</td>\n",
       "      <td>0.767984</td>\n",
       "      <td>NaN</td>\n",
       "    </tr>\n",
       "    <tr>\n",
       "      <th>blk</th>\n",
       "      <td>0.001864</td>\n",
       "      <td>0.444877</td>\n",
       "      <td>0.490469</td>\n",
       "      <td>0.489242</td>\n",
       "      <td>0.484449</td>\n",
       "      <td>0.416612</td>\n",
       "      <td>0.484121</td>\n",
       "      <td>-0.065418</td>\n",
       "      <td>-0.063485</td>\n",
       "      <td>-0.193395</td>\n",
       "      <td>...</td>\n",
       "      <td>0.763313</td>\n",
       "      <td>0.719310</td>\n",
       "      <td>0.761056</td>\n",
       "      <td>0.083110</td>\n",
       "      <td>0.291649</td>\n",
       "      <td>1.000000</td>\n",
       "      <td>0.379128</td>\n",
       "      <td>0.616615</td>\n",
       "      <td>0.432895</td>\n",
       "      <td>NaN</td>\n",
       "    </tr>\n",
       "    <tr>\n",
       "      <th>tov</th>\n",
       "      <td>-0.028296</td>\n",
       "      <td>0.678705</td>\n",
       "      <td>0.744199</td>\n",
       "      <td>0.867292</td>\n",
       "      <td>0.890360</td>\n",
       "      <td>0.898432</td>\n",
       "      <td>0.322147</td>\n",
       "      <td>0.517260</td>\n",
       "      <td>0.547655</td>\n",
       "      <td>0.112055</td>\n",
       "      <td>...</td>\n",
       "      <td>0.441139</td>\n",
       "      <td>0.718024</td>\n",
       "      <td>0.659163</td>\n",
       "      <td>0.845212</td>\n",
       "      <td>0.801463</td>\n",
       "      <td>0.379128</td>\n",
       "      <td>1.000000</td>\n",
       "      <td>0.749565</td>\n",
       "      <td>0.900949</td>\n",
       "      <td>NaN</td>\n",
       "    </tr>\n",
       "    <tr>\n",
       "      <th>pf</th>\n",
       "      <td>-0.016736</td>\n",
       "      <td>0.844418</td>\n",
       "      <td>0.703682</td>\n",
       "      <td>0.869167</td>\n",
       "      <td>0.781590</td>\n",
       "      <td>0.772608</td>\n",
       "      <td>0.472329</td>\n",
       "      <td>0.419992</td>\n",
       "      <td>0.436648</td>\n",
       "      <td>-0.010621</td>\n",
       "      <td>...</td>\n",
       "      <td>0.691158</td>\n",
       "      <td>0.798214</td>\n",
       "      <td>0.795689</td>\n",
       "      <td>0.507152</td>\n",
       "      <td>0.711855</td>\n",
       "      <td>0.616615</td>\n",
       "      <td>0.749565</td>\n",
       "      <td>1.000000</td>\n",
       "      <td>0.761402</td>\n",
       "      <td>NaN</td>\n",
       "    </tr>\n",
       "    <tr>\n",
       "      <th>pts</th>\n",
       "      <td>-0.007520</td>\n",
       "      <td>0.708630</td>\n",
       "      <td>0.797006</td>\n",
       "      <td>0.920194</td>\n",
       "      <td>0.991289</td>\n",
       "      <td>0.988128</td>\n",
       "      <td>0.370077</td>\n",
       "      <td>0.624143</td>\n",
       "      <td>0.640738</td>\n",
       "      <td>0.160854</td>\n",
       "      <td>...</td>\n",
       "      <td>0.491221</td>\n",
       "      <td>0.783448</td>\n",
       "      <td>0.722322</td>\n",
       "      <td>0.710765</td>\n",
       "      <td>0.767984</td>\n",
       "      <td>0.432895</td>\n",
       "      <td>0.900949</td>\n",
       "      <td>0.761402</td>\n",
       "      <td>1.000000</td>\n",
       "      <td>NaN</td>\n",
       "    </tr>\n",
       "    <tr>\n",
       "      <th>season_end</th>\n",
       "      <td>NaN</td>\n",
       "      <td>NaN</td>\n",
       "      <td>NaN</td>\n",
       "      <td>NaN</td>\n",
       "      <td>NaN</td>\n",
       "      <td>NaN</td>\n",
       "      <td>NaN</td>\n",
       "      <td>NaN</td>\n",
       "      <td>NaN</td>\n",
       "      <td>NaN</td>\n",
       "      <td>...</td>\n",
       "      <td>NaN</td>\n",
       "      <td>NaN</td>\n",
       "      <td>NaN</td>\n",
       "      <td>NaN</td>\n",
       "      <td>NaN</td>\n",
       "      <td>NaN</td>\n",
       "      <td>NaN</td>\n",
       "      <td>NaN</td>\n",
       "      <td>NaN</td>\n",
       "      <td>NaN</td>\n",
       "    </tr>\n",
       "  </tbody>\n",
       "</table>\n",
       "<p>27 rows × 27 columns</p>\n",
       "</div>"
      ],
      "text/plain": [
       "                 age         g        gs        mp        fg       fga  \\\n",
       "age         1.000000  0.003149  0.031170  0.019843 -0.004368 -0.014302   \n",
       "g           0.003149  1.000000  0.589389  0.855091  0.719623  0.729451   \n",
       "gs          0.031170  0.589389  1.000000  0.852544  0.807803  0.799696   \n",
       "mp          0.019843  0.855091  0.852544  1.000000  0.923122  0.931583   \n",
       "fg         -0.004368  0.719623  0.807803  0.923122  1.000000  0.987777   \n",
       "fga        -0.014302  0.729451  0.799696  0.931583  0.987777  1.000000   \n",
       "fg.         0.040057  0.429928  0.336935  0.393050  0.407535  0.325958   \n",
       "x3p         0.062686  0.498908  0.475804  0.620925  0.562590  0.628079   \n",
       "x3pa        0.038126  0.517138  0.489954  0.642271  0.578946  0.652180   \n",
       "x3p.        0.034957  0.134474  0.072941  0.158417  0.124877  0.170132   \n",
       "x2p        -0.026924  0.656164  0.765976  0.848373  0.957444  0.920478   \n",
       "x2pa       -0.034907  0.666453  0.765468  0.859349  0.957373  0.939322   \n",
       "x2p.        0.002652  0.329124  0.264363  0.305663  0.309230  0.243625   \n",
       "efg.        0.119367  0.433279  0.293877  0.384185  0.352756  0.303551   \n",
       "ft         -0.049566  0.571620  0.689366  0.791778  0.886732  0.880231   \n",
       "fta        -0.065464  0.584322  0.699713  0.797706  0.889077  0.872277   \n",
       "ft.         0.033372  0.198547  0.148683  0.232772  0.229745  0.260975   \n",
       "orb        -0.068620  0.511668  0.534162  0.552034  0.548940  0.476147   \n",
       "drb         0.023577  0.681047  0.755443  0.805803  0.819745  0.772900   \n",
       "trb        -0.004398  0.654439  0.715461  0.757597  0.766743  0.709946   \n",
       "ast         0.026157  0.520201  0.614157  0.711095  0.679671  0.719715   \n",
       "stl        -0.022535  0.682955  0.721275  0.829725  0.756097  0.773317   \n",
       "blk         0.001864  0.444877  0.490469  0.489242  0.484449  0.416612   \n",
       "tov        -0.028296  0.678705  0.744199  0.867292  0.890360  0.898432   \n",
       "pf         -0.016736  0.844418  0.703682  0.869167  0.781590  0.772608   \n",
       "pts        -0.007520  0.708630  0.797006  0.920194  0.991289  0.988128   \n",
       "season_end       NaN       NaN       NaN       NaN       NaN       NaN   \n",
       "\n",
       "                 fg.       x3p      x3pa      x3p.     ...           orb  \\\n",
       "age         0.040057  0.062686  0.038126  0.034957     ...     -0.068620   \n",
       "g           0.429928  0.498908  0.517138  0.134474     ...      0.511668   \n",
       "gs          0.336935  0.475804  0.489954  0.072941     ...      0.534162   \n",
       "mp          0.393050  0.620925  0.642271  0.158417     ...      0.552034   \n",
       "fg          0.407535  0.562590  0.578946  0.124877     ...      0.548940   \n",
       "fga         0.325958  0.628079  0.652180  0.170132     ...      0.476147   \n",
       "fg.         1.000000  0.007605 -0.013174 -0.091448     ...      0.531054   \n",
       "x3p         0.007605  1.000000  0.990855  0.494052     ...     -0.100796   \n",
       "x3pa       -0.013174  0.990855  1.000000  0.482355     ...     -0.093893   \n",
       "x3p.       -0.091448  0.494052  0.482355  1.000000     ...     -0.328429   \n",
       "x2p         0.467578  0.300038  0.322103 -0.028388     ...      0.668582   \n",
       "x2pa        0.408339  0.326950  0.352563 -0.008255     ...      0.630266   \n",
       "x2p.        0.863999  0.066028  0.066920 -0.097278     ...      0.367804   \n",
       "efg.        0.858859  0.317480  0.283845  0.251834     ...      0.287833   \n",
       "ft          0.319544  0.459922  0.485016  0.068341     ...      0.452312   \n",
       "fta         0.361409  0.398479  0.425703  0.023600     ...      0.526899   \n",
       "ft.         0.089630  0.346334  0.341867  0.284892     ...     -0.067915   \n",
       "orb         0.531054 -0.100796 -0.093893 -0.328429     ...      1.000000   \n",
       "drb         0.497099  0.246765  0.257608 -0.094532     ...      0.825725   \n",
       "trb         0.527060  0.147440  0.157470 -0.171503     ...      0.912430   \n",
       "ast         0.128746  0.572132  0.598351  0.231770     ...      0.114442   \n",
       "stl         0.282662  0.547052  0.579049  0.167502     ...      0.353776   \n",
       "blk         0.484121 -0.065418 -0.063485 -0.193395     ...      0.763313   \n",
       "tov         0.322147  0.517260  0.547655  0.112055     ...      0.441139   \n",
       "pf          0.472329  0.419992  0.436648 -0.010621     ...      0.691158   \n",
       "pts         0.370077  0.624143  0.640738  0.160854     ...      0.491221   \n",
       "season_end       NaN       NaN       NaN       NaN     ...           NaN   \n",
       "\n",
       "                 drb       trb       ast       stl       blk       tov  \\\n",
       "age         0.023577 -0.004398  0.026157 -0.022535  0.001864 -0.028296   \n",
       "g           0.681047  0.654439  0.520201  0.682955  0.444877  0.678705   \n",
       "gs          0.755443  0.715461  0.614157  0.721275  0.490469  0.744199   \n",
       "mp          0.805803  0.757597  0.711095  0.829725  0.489242  0.867292   \n",
       "fg          0.819745  0.766743  0.679671  0.756097  0.484449  0.890360   \n",
       "fga         0.772900  0.709946  0.719715  0.773317  0.416612  0.898432   \n",
       "fg.         0.497099  0.527060  0.128746  0.282662  0.484121  0.322147   \n",
       "x3p         0.246765  0.147440  0.572132  0.547052 -0.065418  0.517260   \n",
       "x3pa        0.257608  0.157470  0.598351  0.579049 -0.063485  0.547655   \n",
       "x3p.       -0.094532 -0.171503  0.231770  0.167502 -0.193395  0.112055   \n",
       "x2p         0.859713  0.833232  0.584503  0.681442  0.581818  0.846762   \n",
       "x2pa        0.837529  0.805130  0.617684  0.692588  0.543012  0.861242   \n",
       "x2p.        0.365686  0.380562  0.090380  0.241413  0.342369  0.234919   \n",
       "efg.        0.351394  0.345133  0.163939  0.288181  0.288667  0.259661   \n",
       "ft          0.702485  0.651390  0.673708  0.692804  0.385029  0.862433   \n",
       "fta         0.748109  0.707864  0.647253  0.699554  0.444326  0.869089   \n",
       "ft.         0.068944  0.028736  0.235162  0.169023 -0.060122  0.199260   \n",
       "orb         0.825725  0.912430  0.114442  0.353776  0.763313  0.441139   \n",
       "drb         1.000000  0.984253  0.421243  0.599141  0.719310  0.718024   \n",
       "trb         0.984253  1.000000  0.341472  0.545537  0.761056  0.659163   \n",
       "ast         0.421243  0.341472  1.000000  0.745814  0.083110  0.845212   \n",
       "stl         0.599141  0.545537  0.745814  1.000000  0.291649  0.801463   \n",
       "blk         0.719310  0.761056  0.083110  0.291649  1.000000  0.379128   \n",
       "tov         0.718024  0.659163  0.845212  0.801463  0.379128  1.000000   \n",
       "pf          0.798214  0.795689  0.507152  0.711855  0.616615  0.749565   \n",
       "pts         0.783448  0.722322  0.710765  0.767984  0.432895  0.900949   \n",
       "season_end       NaN       NaN       NaN       NaN       NaN       NaN   \n",
       "\n",
       "                  pf       pts  season_end  \n",
       "age        -0.016736 -0.007520         NaN  \n",
       "g           0.844418  0.708630         NaN  \n",
       "gs          0.703682  0.797006         NaN  \n",
       "mp          0.869167  0.920194         NaN  \n",
       "fg          0.781590  0.991289         NaN  \n",
       "fga         0.772608  0.988128         NaN  \n",
       "fg.         0.472329  0.370077         NaN  \n",
       "x3p         0.419992  0.624143         NaN  \n",
       "x3pa        0.436648  0.640738         NaN  \n",
       "x3p.       -0.010621  0.160854         NaN  \n",
       "x2p         0.755215  0.925905         NaN  \n",
       "x2pa        0.756150  0.929844         NaN  \n",
       "x2p.        0.352013  0.286571         NaN  \n",
       "efg.        0.392835  0.345044         NaN  \n",
       "ft          0.643659  0.923201         NaN  \n",
       "fta         0.674058  0.915259         NaN  \n",
       "ft.         0.150207  0.258744         NaN  \n",
       "orb         0.691158  0.491221         NaN  \n",
       "drb         0.798214  0.783448         NaN  \n",
       "trb         0.795689  0.722322         NaN  \n",
       "ast         0.507152  0.710765         NaN  \n",
       "stl         0.711855  0.767984         NaN  \n",
       "blk         0.616615  0.432895         NaN  \n",
       "tov         0.749565  0.900949         NaN  \n",
       "pf          1.000000  0.761402         NaN  \n",
       "pts         0.761402  1.000000         NaN  \n",
       "season_end       NaN       NaN         NaN  \n",
       "\n",
       "[27 rows x 27 columns]"
      ]
     },
     "execution_count": 32,
     "metadata": {},
     "output_type": "execute_result"
    }
   ],
   "source": [
    "frame_nba.corr()"
   ]
  },
  {
   "cell_type": "markdown",
   "metadata": {},
   "source": [
    "On a donc un modèle parfaitement ajusté ce qui pose problème sur le choix des variables explicatives"
   ]
  },
  {
   "cell_type": "markdown",
   "metadata": {},
   "source": [
    "On extrait Tony Parker"
   ]
  },
  {
   "cell_type": "code",
   "execution_count": 33,
   "metadata": {},
   "outputs": [
    {
     "data": {
      "text/html": [
       "<div>\n",
       "<style>\n",
       "    .dataframe thead tr:only-child th {\n",
       "        text-align: right;\n",
       "    }\n",
       "\n",
       "    .dataframe thead th {\n",
       "        text-align: left;\n",
       "    }\n",
       "\n",
       "    .dataframe tbody tr th {\n",
       "        vertical-align: top;\n",
       "    }\n",
       "</style>\n",
       "<table border=\"1\" class=\"dataframe\">\n",
       "  <thead>\n",
       "    <tr style=\"text-align: right;\">\n",
       "      <th></th>\n",
       "      <th>player</th>\n",
       "      <th>pos</th>\n",
       "      <th>age</th>\n",
       "      <th>bref_team_id</th>\n",
       "      <th>g</th>\n",
       "      <th>gs</th>\n",
       "      <th>mp</th>\n",
       "      <th>fg</th>\n",
       "      <th>fga</th>\n",
       "      <th>fg.</th>\n",
       "      <th>...</th>\n",
       "      <th>drb</th>\n",
       "      <th>trb</th>\n",
       "      <th>ast</th>\n",
       "      <th>stl</th>\n",
       "      <th>blk</th>\n",
       "      <th>tov</th>\n",
       "      <th>pf</th>\n",
       "      <th>pts</th>\n",
       "      <th>season</th>\n",
       "      <th>season_end</th>\n",
       "    </tr>\n",
       "  </thead>\n",
       "  <tbody>\n",
       "    <tr>\n",
       "      <th>344</th>\n",
       "      <td>Tony Parker</td>\n",
       "      <td>PG</td>\n",
       "      <td>31</td>\n",
       "      <td>SAS</td>\n",
       "      <td>68</td>\n",
       "      <td>68</td>\n",
       "      <td>1997</td>\n",
       "      <td>456</td>\n",
       "      <td>914</td>\n",
       "      <td>0.499</td>\n",
       "      <td>...</td>\n",
       "      <td>138</td>\n",
       "      <td>155</td>\n",
       "      <td>388</td>\n",
       "      <td>36</td>\n",
       "      <td>9</td>\n",
       "      <td>151</td>\n",
       "      <td>86</td>\n",
       "      <td>1134</td>\n",
       "      <td>2013-2014</td>\n",
       "      <td>2013</td>\n",
       "    </tr>\n",
       "  </tbody>\n",
       "</table>\n",
       "<p>1 rows × 31 columns</p>\n",
       "</div>"
      ],
      "text/plain": [
       "          player pos  age bref_team_id   g  gs    mp   fg  fga    fg.  \\\n",
       "344  Tony Parker  PG   31          SAS  68  68  1997  456  914  0.499   \n",
       "\n",
       "        ...      drb  trb  ast  stl  blk  tov  pf   pts     season  season_end  \n",
       "344     ...      138  155  388   36    9  151  86  1134  2013-2014        2013  \n",
       "\n",
       "[1 rows x 31 columns]"
      ]
     },
     "execution_count": 33,
     "metadata": {},
     "output_type": "execute_result"
    }
   ],
   "source": [
    "frame_nba[frame_nba[\"player\"]==\"Tony Parker\"]"
   ]
  },
  {
   "cell_type": "code",
   "execution_count": 34,
   "metadata": {
    "collapsed": true
   },
   "outputs": [],
   "source": [
    "modele_ols2=LinearRegression()"
   ]
  },
  {
   "cell_type": "code",
   "execution_count": 35,
   "metadata": {},
   "outputs": [
    {
     "data": {
      "text/plain": [
       "LinearRegression(copy_X=True, fit_intercept=True, n_jobs=1, normalize=False)"
      ]
     },
     "execution_count": 35,
     "metadata": {},
     "output_type": "execute_result"
    }
   ],
   "source": [
    "modele_ols2.fit(frame_nba[[\"fg\",\"fga\"]],frame_nba[\"pts\"])"
   ]
  },
  {
   "cell_type": "markdown",
   "metadata": {},
   "source": [
    "Calcul R²"
   ]
  },
  {
   "cell_type": "code",
   "execution_count": 36,
   "metadata": {},
   "outputs": [
    {
     "data": {
      "text/plain": [
       "0.9859546496901247"
      ]
     },
     "execution_count": 36,
     "metadata": {},
     "output_type": "execute_result"
    }
   ],
   "source": [
    "modele_ols2.score(frame_nba[[\"fg\",\"fga\"]],frame_nba[\"pts\"])"
   ]
  },
  {
   "cell_type": "code",
   "execution_count": 37,
   "metadata": {},
   "outputs": [
    {
     "data": {
      "text/plain": [
       "array([ 1.72274367,  0.47396191])"
      ]
     },
     "execution_count": 37,
     "metadata": {},
     "output_type": "execute_result"
    }
   ],
   "source": [
    "modele_ols2.coef_"
   ]
  }
 ],
 "metadata": {
  "kernelspec": {
   "display_name": "Python 3",
   "language": "python",
   "name": "python3"
  },
  "language_info": {
   "codemirror_mode": {
    "name": "ipython",
    "version": 3
   },
   "file_extension": ".py",
   "mimetype": "text/x-python",
   "name": "python",
   "nbconvert_exporter": "python",
   "pygments_lexer": "ipython3",
   "version": "3.6.4"
  },
  "varInspector": {
   "cols": {
    "lenName": 16,
    "lenType": 16,
    "lenVar": 40
   },
   "kernels_config": {
    "python": {
     "delete_cmd_postfix": "",
     "delete_cmd_prefix": "del ",
     "library": "var_list.py",
     "varRefreshCmd": "print(var_dic_list())"
    },
    "r": {
     "delete_cmd_postfix": ") ",
     "delete_cmd_prefix": "rm(",
     "library": "var_list.r",
     "varRefreshCmd": "cat(var_dic_list()) "
    }
   },
   "position": {
    "height": "143px",
    "left": "652px",
    "right": "20px",
    "top": "120px",
    "width": "350px"
   },
   "types_to_exclude": [
    "module",
    "function",
    "builtin_function_or_method",
    "instance",
    "_Feature"
   ],
   "window_display": false
  }
 },
 "nbformat": 4,
 "nbformat_minor": 2
}
